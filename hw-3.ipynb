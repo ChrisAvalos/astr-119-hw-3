{
 "cells": [
  {
   "cell_type": "code",
   "execution_count": 1,
   "metadata": {},
   "outputs": [],
   "source": [
    "%matplotlib inline\n",
    "import numpy as np\n",
    "import matplotlib.pyplot as plt"
   ]
  },
  {
   "cell_type": "code",
   "execution_count": 2,
   "metadata": {},
   "outputs": [],
   "source": [
    "x = np.linspace(0, 2*np.pi, num = 1000, dtype=float)"
   ]
  },
  {
   "cell_type": "code",
   "execution_count": 3,
   "metadata": {},
   "outputs": [],
   "source": [
    "a = np.cos(2*x)*5.5 + 5.5\n",
    "b = np.exp(x)*0.02 \n",
    "c = np.sin(10*x)*0.1 + 0.25*x**2"
   ]
  },
  {
   "cell_type": "code",
   "execution_count": null,
   "metadata": {},
   "outputs": [],
   "source": [
    "plt.plot(x,a)\n",
    "plt.plot(x,b)\n",
    "plt.plot(x,c)\n",
    "\n",
    "plt.xlabel('Time in ASTR 119')\n",
    "plt.ylabel('Measures of Awesomeness')\n",
    "plt.savefig('HW3.png' ,bbox_inches=\"tight\" ,dpi=600)\n",
    "\n",
    "ax = plt.gca()\n",
    "ax.set_xlim(0,2*np.pi)\n",
    "ax.set_ylim(-1,10)"
   ]
  }
 ],
 "metadata": {
  "kernelspec": {
   "display_name": "Python 3",
   "language": "python",
   "name": "python3"
  },
  "language_info": {
   "codemirror_mode": {
    "name": "ipython",
    "version": 3
   },
   "file_extension": ".py",
   "mimetype": "text/x-python",
   "name": "python",
   "nbconvert_exporter": "python",
   "pygments_lexer": "ipython3",
   "version": "3.8.5"
  }
 },
 "nbformat": 4,
 "nbformat_minor": 4
}
